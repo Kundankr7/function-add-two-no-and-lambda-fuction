{
 "cells": [
  {
   "cell_type": "code",
   "execution_count": 1,
   "id": "52972089-d320-4fb8-92a8-be61e6f30ca4",
   "metadata": {},
   "outputs": [
    {
     "name": "stdout",
     "output_type": "stream",
     "text": [
      "helllo world\n"
     ]
    }
   ],
   "source": [
    "print(\"helllo world\")"
   ]
  },
  {
   "cell_type": "code",
   "execution_count": 3,
   "id": "487a5a06-3448-4c46-8a5b-dfca6ea34571",
   "metadata": {},
   "outputs": [
    {
     "name": "stdin",
     "output_type": "stream",
     "text": [
      " 11\n",
      " 55\n"
     ]
    },
    {
     "name": "stdout",
     "output_type": "stream",
     "text": [
      "2\n"
     ]
    }
   ],
   "source": [
    "a = int(input())\n",
    "b = str(input())\n",
    "tot_digit = 0\n",
    "\n",
    "for i in b:\n",
    "    tot_digit+=1\n",
    "print(tot_digit)\n"
   ]
  },
  {
   "cell_type": "code",
   "execution_count": 8,
   "id": "9293693a-bff4-423b-9741-aa836ead7dde",
   "metadata": {},
   "outputs": [
    {
     "name": "stdout",
     "output_type": "stream",
     "text": [
      "5\n",
      "10\n",
      "15\n",
      "20\n",
      "25\n",
      "30\n",
      "35\n",
      "40\n",
      "45\n",
      "50\n"
     ]
    }
   ],
   "source": [
    "for i in range(1,11):\n",
    "    print(i*5)"
   ]
  },
  {
   "cell_type": "code",
   "execution_count": 8,
   "id": "21871cc9-6210-4f31-b4b7-75a96f5f45f4",
   "metadata": {},
   "outputs": [],
   "source": []
  },
  {
   "cell_type": "code",
   "execution_count": 12,
   "id": "143ebb98-6e70-4245-a35f-e85d90516724",
   "metadata": {},
   "outputs": [
    {
     "name": "stdin",
     "output_type": "stream",
     "text": [
      "enter the number 56\n",
      "enter the number 44\n"
     ]
    },
    {
     "name": "stdout",
     "output_type": "stream",
     "text": [
      "100\n"
     ]
    }
   ],
   "source": [
    "#program to add two number using fuction\n",
    "def sum(n1,n2):\n",
    "    s=n1+n2\n",
    "    return s\n",
    "x=int(input(\"enter the number\"))\n",
    "y=int(input(\"enter the number\"))\n",
    "print(sum(x,y))"
   ]
  },
  {
   "cell_type": "code",
   "execution_count": 11,
   "id": "501c9be4-06c3-4acb-9ac7-6904bf9c2921",
   "metadata": {},
   "outputs": [
    {
     "name": "stdin",
     "output_type": "stream",
     "text": [
      "enter the number 66\n",
      "enter the number 34\n"
     ]
    },
    {
     "name": "stdout",
     "output_type": "stream",
     "text": [
      "100\n"
     ]
    }
   ],
   "source": [
    "# program to add two number using lamda function\n",
    "sum = lambda n1,n2:n1+n2\n",
    "x=int(input(\"enter the number\"))\n",
    "y=int(input(\"enter the number\"))\n",
    "print(sum(x,y))"
   ]
  },
  {
   "cell_type": "code",
   "execution_count": 13,
   "id": "3d6845f9-bba7-440b-8dd2-ba53b1d6282e",
   "metadata": {},
   "outputs": [
    {
     "name": "stdin",
     "output_type": "stream",
     "text": [
      "enter the number 45\n",
      "enter the number 5\n"
     ]
    },
    {
     "name": "stdout",
     "output_type": "stream",
     "text": [
      "225\n"
     ]
    }
   ],
   "source": [
    "mul = lambda n1,n2:n1*n2\n",
    "x=int(input(\"enter the number\"))\n",
    "y=int(input(\"enter the number\"))\n",
    "print(mul(x,y))"
   ]
  },
  {
   "cell_type": "code",
   "execution_count": null,
   "id": "a4addf4c-babb-4ce8-89e7-1b8d3e3f898c",
   "metadata": {},
   "outputs": [],
   "source": []
  }
 ],
 "metadata": {
  "kernelspec": {
   "display_name": "Python 3 (ipykernel)",
   "language": "python",
   "name": "python3"
  },
  "language_info": {
   "codemirror_mode": {
    "name": "ipython",
    "version": 3
   },
   "file_extension": ".py",
   "mimetype": "text/x-python",
   "name": "python",
   "nbconvert_exporter": "python",
   "pygments_lexer": "ipython3",
   "version": "3.12.4"
  }
 },
 "nbformat": 4,
 "nbformat_minor": 5
}
